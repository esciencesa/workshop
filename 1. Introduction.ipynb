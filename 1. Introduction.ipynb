{
 "cells": [
  {
   "cell_type": "markdown",
   "metadata": {},
   "source": [
    "# Scientific Programming in Python\n",
    "<center><small>February 2017</small></center>\n",
    "# Session 1: Basics\n",
    "\n",
    "\n",
    "[(based on slides by Loic Matthey, UCL Graduate School)](http://ucl-cs-grad.github.io/scipython/index.html)\n",
    "\n"
   ]
  },
  {
   "cell_type": "markdown",
   "metadata": {},
   "source": [
    "## Agenda\n",
    "\n",
    "* Brief overview of the course\n",
    "* Python installation\n",
    "* Basic elements of Python programming\n",
    "* Python as a calculator\n",
    "* Working with strings\n",
    "* Working with lists\n"
   ]
  },
  {
   "cell_type": "markdown",
   "metadata": {},
   "source": [
    "## Introduction\n",
    "\n",
    "### Things to know about programming\n",
    "\n",
    "* programming is not science\n",
    "* programming is a skill\n",
    "* programming takes a long time to master (longer than this week!)\n",
    "* programming is a tool commonly used by scientists, engineers and artists\n"
   ]
  },
  {
   "cell_type": "markdown",
   "metadata": {},
   "source": [
    "### What is programming?\n",
    "\n",
    "* The process of creating computer programs.\n",
    "* Everything running on your computer is a program.\n",
    "* Every program is a piece of specifically written text, called the \"source code\".\n",
    "* Programming is simply writting text, which will get executed by your computer.\n",
    "\n",
    "### When is programming useful?\n",
    "\n",
    "* Automating a task, when they are repetitive or error prone\n",
    "* Analysing data, creating plots automatically\n",
    "* Mathematics/simulation heavy tasks\n",
    "\n"
   ]
  },
  {
   "cell_type": "markdown",
   "metadata": {},
   "source": [
    "### What is Python?\n",
    "\n",
    "* Created to be general-purpose, high-level programming language.\n",
    "* A \"fun to use\" language, hence named after Monty Python’s Flying Circus\n",
    "* Combines \"remarkable power with very clear syntax\" and provides a large and comprehensive standard library\n",
    "    * The \"standard library\" is a collection of code already written and directly available to you.\n",
    "    * That’s a good thing: it means people have written code for most applications you could be thinking of.\n",
    "\n",
    "* Multi-paradigm programming language permitting several styles:\n",
    "    * object-oriented\n",
    "    * structured\n",
    "    * functional\n",
    "    * aspect-oriented\n",
    "* Application domains: web development, database access,\n",
    "desktop GUIs, education, scientific and numeric computing,\n",
    "network programming, game and 3D graphics\n",
    "\n"
   ]
  },
  {
   "cell_type": "markdown",
   "metadata": {},
   "source": [
    "### Why learn Python?\n",
    "\n",
    "* very clear and readable syntax\n",
    "* extensive standard libraries and modules for virtually every task\n",
    "* high-level, easy to use datatypes, such as flexible arrays and dictionaries\n",
    "* interpreted language - no compilation is necessary\n",
    "* Easy to switch to another language later\n",
    "\n",
    "### I know Matlab, why Python?\n",
    "\n",
    "* Free.\n",
    "* More versatile, you can use it for different applications.\n",
    "* Input and output file manipulation better in Python. \n",
    "* Speedwise, they are about the same (when using Numpy/Scipy appropriately)\n"
   ]
  },
  {
   "cell_type": "markdown",
   "metadata": {},
   "source": [
    "### Python installation\n",
    "Check: http://www.cs.ucl.ac.uk/scipython/help.html"
   ]
  },
  {
   "cell_type": "markdown",
   "metadata": {},
   "source": [
    "### Installing Python Environment via Anaconda"
   ]
  },
  {
   "cell_type": "markdown",
   "metadata": {},
   "source": [
    "##### What is Anaconda?\n",
    "- Anaconda is a python distribution on windows operating systems. \n",
    "- It is  a free and open source distribution of python and R programming languages for data science and machine learning related applications.\n",
    "- It comes beginner's friendly platforms such as spyder and jupyter notebook which makes it easier if you using python first time."
   ]
  },
  {
   "cell_type": "markdown",
   "metadata": {},
   "source": [
    "-  Go to anaconda.com to download anaconda at https://repo.continuum.io/archive/Anaconda3-2018.12-Windows-x86_64.exe\n",
    "-  Double-click on executable downloaded anaconda file. Then you end up to the following tab:"
   ]
  },
  {
   "cell_type": "markdown",
   "metadata": {},
   "source": [
    "![](images/Capture.png)"
   ]
  },
  {
   "cell_type": "markdown",
   "metadata": {},
   "source": [
    "- Click next to get the following tab from which you will agree to the terms an conditions:"
   ]
  },
  {
   "cell_type": "markdown",
   "metadata": {},
   "source": [
    "![](images/Capture1.png)"
   ]
  },
  {
   "cell_type": "markdown",
   "metadata": {},
   "source": [
    "Now choose what you install anaconda for, just me is recommended"
   ]
  },
  {
   "cell_type": "markdown",
   "metadata": {},
   "source": [
    "![](images/Capture2.png)"
   ]
  },
  {
   "cell_type": "markdown",
   "metadata": {},
   "source": [
    "Click next"
   ]
  },
  {
   "cell_type": "markdown",
   "metadata": {},
   "source": [
    "![](images/Capture3.png)"
   ]
  },
  {
   "cell_type": "markdown",
   "metadata": {},
   "source": [
    "Tick both options on the following tab if your system does not have any previous versions of python installed and then click on install."
   ]
  },
  {
   "cell_type": "markdown",
   "metadata": {},
   "source": [
    "![](images/Capture4.png)"
   ]
  },
  {
   "cell_type": "markdown",
   "metadata": {},
   "source": [
    "### HELP!\n",
    "\n",
    "* type `help()`, e.g. `help(sum)` will tell you how to use the Python function called `sum`\n",
    "* the official Python website: [www.python.org](www.python.org), and tutorial: [docs.python.org/tutorial](docs.python.org/tutorial)\n",
    "* attend one of the PyCon conferences, e.g. PyCon UK\n"
   ]
  },
  {
   "cell_type": "markdown",
   "metadata": {},
   "source": [
    "### Python interpreter\n",
    "\n",
    "* A convenient option when using Python is to use `ipython`\n",
    "* It is a slightly changed interpreter, containing multiple tweaks and modifications to make your life easier.\n",
    "    * For example, it has colors by default, \n",
    "    * a great history,\n",
    "    * command completion\n",
    "    * and a way to launch scripts directly from it (%run, more on scripts later)\n",
    "\n",
    "* help/ documentation:\n",
    "    * typing `?` behind a function is an alias for `help()`, e.g.: `sum?` is the same as `help(sum)`. \n",
    "    * typing `??` behind a function shows the source code of the function\n",
    "\n",
    "### jupyter notebook\n",
    "* This page is a rendered (static) version of an IPython notebook.\n",
    "* interactive script environment inspired by Mathematica notebooks, that is run in a webbrowser\n",
    "* allows to write text, $LaTeX$ equations (something like $\\sqrt\\frac{3}{x}$), together with python code\n",
    "* very good way to do quick, but organized prototyping and developping\n",
    "* to start the ipython notebook interface launch it with `ipython notebook` in the terminal, this will:\n",
    "    * start an IPython kernel and a local http server that hosts the session locally\n",
    "    * open a webbrowser showing you the IPython notebooks in the folder you ran the command from\n",
    "    * then you can organize your notebooks with the web-browser and do all development\n"
   ]
  },
  {
   "cell_type": "markdown",
   "metadata": {},
   "source": [
    "# Python Syntax"
   ]
  },
  {
   "cell_type": "markdown",
   "metadata": {},
   "source": [
    "A Python program is read by a parser. Python was designed to be a highly readable language. The syntax of the Python programming language is the set of rules which defines how a Python program will be written."
   ]
  },
  {
   "cell_type": "markdown",
   "metadata": {},
   "source": [
    "### Comments in Python:\n",
    "\n",
    "A comment begins with a hash character(#) which is not a part of the string literal and ends at the end of the physical line. All characters after the # character up to the end of the line are part of the comment and the Python interpreter ignores them. See the following example. It should be noted that Python has no multi-lines or block comments facility.\n",
    "\n"
   ]
  },
  {
   "cell_type": "markdown",
   "metadata": {},
   "source": [
    "### Joining two lines:\n",
    "\n",
    "When you want to write a long code in a single line you can break the logical line in two or more physical lines using backslash character(\\). Therefore when a physical line ends with a backslash characters(\\) and not a part of a string literal or comment then it can join another physical line. See the following example"
   ]
  },
  {
   "cell_type": "code",
   "execution_count": null,
   "metadata": {},
   "outputs": [],
   "source": [
    "x = 3\n",
    "y = 5\n",
    "r = 8\n",
    "t = 2\n",
    "u = 12\n",
    "v = 9 \n",
    "z = 7\n",
    "if x == 3 and y>=5 \\\n",
    "and r > t and z < u \\\n",
    "and v > z:\n",
    "    print('This is an example of line')"
   ]
  },
  {
   "cell_type": "markdown",
   "metadata": {},
   "source": [
    "### Indentation:\n",
    "\n",
    "Python uses whitespace (spaces and tabs) to define program blocks whereas other languages like C, C++ use braces ({}) to indicate blocks of codes for class, functions or flow control. The number of whitespaces (spaces and tabs) in the indentation is not fixed, but all statements within the block must be the indented same amount."
   ]
  },
  {
   "cell_type": "code",
   "execution_count": null,
   "metadata": {},
   "outputs": [],
   "source": [
    "statement1 = statement2 = True\n",
    "\n",
    "if statement1:\n",
    "    if statement2:\n",
    "        print(\"both statement1 and statement2 are True\")"
   ]
  },
  {
   "cell_type": "code",
   "execution_count": null,
   "metadata": {},
   "outputs": [],
   "source": [
    "# Bad indentation!\n",
    "if statement1:\n",
    "    if statement2:\n",
    "    print(\"both statement1 and statement2 are True\")  # this line is not properly indented"
   ]
  },
  {
   "cell_type": "markdown",
   "metadata": {},
   "source": [
    "Try fixing the indentation in the above code cell so it runs without error"
   ]
  },
  {
   "cell_type": "markdown",
   "metadata": {},
   "source": [
    "### Multiple Statements on a Single Line:\n",
    "\n",
    "You can write two separate statements into a single line using a semicolon (;) character between two line"
   ]
  },
  {
   "cell_type": "code",
   "execution_count": null,
   "metadata": {},
   "outputs": [],
   "source": [
    "statement1 = 5 > 4\n",
    "statement2 = 7 < 3 \n",
    "statement1; statement2"
   ]
  },
  {
   "cell_type": "markdown",
   "metadata": {},
   "source": [
    "### Errors\n",
    "#### Syntax errors\n",
    "\n",
    "If you type something into python by mistake and python can’t understand then that’s a syntax error.\n",
    "\n",
    "* Making mistakes like this is normal. It doesn’t mean that you are dumb or that the computer is dumb.\n",
    "* Computers are more precise than humans. When you make a mistake like this, you have to fix it.\n",
    "* You will learn how to look at an error message and figure out what the mistake is. This is a valuable skill."
   ]
  },
  {
   "cell_type": "code",
   "execution_count": null,
   "metadata": {},
   "outputs": [],
   "source": [
    "n = 50 - 5*6)/4\n"
   ]
  },
  {
   "cell_type": "code",
   "execution_count": null,
   "metadata": {},
   "outputs": [],
   "source": [
    "n = 0\n",
    "1 / n"
   ]
  },
  {
   "cell_type": "markdown",
   "metadata": {},
   "source": [
    "* In this example, we’ve asked python to divide one by zero, which is impossible. The error message let’s us know what went wrong.\n",
    "* The first line says the file and line where the impossible command was.\n",
    "* The second line says the impossible command.\n",
    "\n",
    "#### logic error\n",
    "* Sometimes code is grammatically correct, but it doesn’t do what you want. This is called a logic error.\n",
    "* As long as it’s not impossible to do what your code says, python will do it anyway even though it’s not what you want (how would Python know?). In the example below, the programmer wanted the variable `even_number` to contain an even number, and the variable `zero` to contain the number 0."
   ]
  },
  {
   "cell_type": "markdown",
   "metadata": {},
   "source": [
    "#### runtime error \n",
    "\n",
    "Sometimes the grammar of your code is right and python knows what it should do, but you’ve asked it to do something impossible. This is called a runtime error.\n"
   ]
  },
  {
   "cell_type": "markdown",
   "metadata": {},
   "source": [
    "#### Summary of errors\n",
    "\n",
    "* **Syntax error**: your code is not ‘grammatically’ correct\n",
    "* **Runtime error**: you’ve asked python to do something impossible\n",
    "* **Logic errors**: your code doesn’t actually mean what you think it should.\n",
    "\n",
    "Errors in code are called bugs, and getting rid of them is called debugging. We will teach you how to debug throughout the course.\n",
    "\n"
   ]
  },
  {
   "cell_type": "markdown",
   "metadata": {},
   "source": [
    "# Python basics / Numbers\n",
    "* the interpreter acts as a simple calculator, e.g."
   ]
  },
  {
   "cell_type": "code",
   "execution_count": null,
   "metadata": {},
   "outputs": [],
   "source": [
    "2 + 2"
   ]
  },
  {
   "cell_type": "markdown",
   "metadata": {},
   "source": [
    "* parentheses can be used for grouping, e.g."
   ]
  },
  {
   "cell_type": "code",
   "execution_count": null,
   "metadata": {},
   "outputs": [],
   "source": [
    "(50 - 5*6)/4"
   ]
  },
  {
   "cell_type": "markdown",
   "metadata": {},
   "source": [
    "* integer division returns the float (only in Python3!) :"
   ]
  },
  {
   "cell_type": "code",
   "execution_count": null,
   "metadata": {},
   "outputs": [],
   "source": [
    "7/3"
   ]
  },
  {
   "cell_type": "markdown",
   "metadata": {},
   "source": [
    "* floor division can be used like this: \n"
   ]
  },
  {
   "cell_type": "code",
   "execution_count": null,
   "metadata": {},
   "outputs": [],
   "source": [
    "7 // 2"
   ]
  },
  {
   "cell_type": "markdown",
   "metadata": {},
   "source": [
    "### Operations\n",
    "<table>\n",
    "<tr>\n",
    "<th>Operator</th>\n",
    "<th>Operation</th>\n",
    "</tr>\n",
    "<tr>\n",
    "<td>+</td>\n",
    "<td>plus</td>\n",
    "</tr>\n",
    "<tr>\n",
    "<td>-</td>\n",
    "<td>minus</td>\n",
    "</tr>\n",
    "<tr>\n",
    "<td>*</td>\n",
    "<td>multiplication</td>\n",
    "</tr>\n",
    "<tr>\n",
    "<td>/</td>\n",
    "<td>division</td>\n",
    "</tr>\n",
    "<tr>\n",
    "<td>**</td>\n",
    "<td>power (not ^ as in some other languages)</td>\n",
    "</tr>\n",
    "<tr>\n",
    "<td>%</td>\n",
    "<td>moldulo (remainder of integer division)</td>\n",
    "</tr>\n",
    "<tr>\n",
    "<td>==</td>\n",
    "<td>equal to (do not mix up with =)</td>\n",
    "</tr>\n",
    "<tr>\n",
    "<td>!=</td>\n",
    "<td>not equal</td>\n",
    "</tr>\n",
    "<tr>\n",
    "<td>></td>\n",
    "<td>greater than</td>\n",
    "</tr>\n",
    "<tr>\n",
    "<td>&lt;</td>\n",
    "<td>smaller than</td>\n",
    "</tr>\n",
    "<tr>\n",
    "<td>>=</td>\n",
    "<td>greater than or equal to</td>\n",
    "</tr>\n",
    "<tr>\n",
    "<td>&lt;=</td>\n",
    "<td>smaller than or equale to</td>\n",
    "</tr>\n",
    "</table>\n",
    "\n",
    "If you want more complex operations (e.g. `sin`, `sqrt`, `log`), you’ll need to use `math` or `numpy`. More on that later.\n"
   ]
  },
  {
   "cell_type": "markdown",
   "metadata": {},
   "source": [
    "### Operators precedence\n",
    "\n",
    "The priority between operators is the same as you’d expect mathematically. From highest to lowest precedence:\n",
    "\n",
    "<table>\n",
    "<tr>\n",
    "<th>Operator</th>\n",
    "<th>Operation</th>\n",
    "</tr>\n",
    "<tr>\n",
    "<td>()</td>\n",
    "<td>Terms in backets</td>\n",
    "</tr>\n",
    "<tr>\n",
    "<td>**</td>\n",
    "<td>Exponentiation</td>\n",
    "</tr>\n",
    "<tr>\n",
    "<td>+x, -x</td>\n",
    "<td>Unary plus and minus</td>\n",
    "</tr>\n",
    "<tr>\n",
    "<td>*, /, %</td>\n",
    "<td>Multiply, divide, modulo</td>\n",
    "</tr>\n",
    "<tr>\n",
    "<td>+, -</td>\n",
    "<td>Addition and subtraction</td>\n",
    "</tr>\n",
    "<tr>\n",
    "<td>&lt;=, &lt;, >, >=</td>\n",
    "<td>Comparison operators</td>\n",
    "</tr>\n",
    "<tr>\n",
    "<td>==, !=</td>\n",
    "<td>Equality operators</td>\n",
    "</tr>\n",
    "<tr>\n",
    "<td>not, or, and</td>\n",
    "<td>Logical operators</td>\n",
    "</tr>\n",
    "</table>\n",
    "\n",
    "There are other operators that you will encounter later, check the Python Library Reference for the complete precedence table.\n"
   ]
  },
  {
   "cell_type": "markdown",
   "metadata": {},
   "source": [
    "### Variables\n",
    "\n",
    "* a variable are how values are stored in a computer\n",
    "* a variable can be a number, a character, a collection of numbers, etc.\n",
    "* the equal sign (`=`) is used to assign a value to a variable (again, be careful to not confuse with testing for equality `==`)\n",
    "\n"
   ]
  },
  {
   "cell_type": "code",
   "execution_count": null,
   "metadata": {},
   "outputs": [],
   "source": [
    "width = 20\n",
    "pi = 3.14\n",
    "message = 'I have a bad feeling about this'"
   ]
  },
  {
   "cell_type": "markdown",
   "metadata": {},
   "source": [
    "A value can be assigned to several variables simultaneously:\n"
   ]
  },
  {
   "cell_type": "code",
   "execution_count": null,
   "metadata": {},
   "outputs": [],
   "source": [
    "x = y = z = 20\n",
    "x"
   ]
  },
  {
   "cell_type": "code",
   "execution_count": null,
   "metadata": {},
   "outputs": [],
   "source": [
    "y"
   ]
  },
  {
   "cell_type": "code",
   "execution_count": null,
   "metadata": {},
   "outputs": [],
   "source": [
    "z"
   ]
  },
  {
   "cell_type": "markdown",
   "metadata": {},
   "source": [
    "Variables must be “defined” (assigned a value) before they can be used, or an error will occur:\n"
   ]
  },
  {
   "cell_type": "code",
   "execution_count": null,
   "metadata": {},
   "outputs": [],
   "source": [
    "n"
   ]
  },
  {
   "cell_type": "code",
   "execution_count": null,
   "metadata": {},
   "outputs": [],
   "source": [
    "even_number = 57\n",
    "sample_size = '20'"
   ]
  },
  {
   "cell_type": "markdown",
   "metadata": {},
   "source": [
    "### Variables\n",
    "\n",
    "Variables in Python are “typed”. Every variable has a given type, which you can check by writing `type(varname)`.\n",
    "\n"
   ]
  },
  {
   "cell_type": "code",
   "execution_count": null,
   "metadata": {},
   "outputs": [],
   "source": [
    "a = 10\n",
    "b = 20.0\n",
    "c = \"It's just a flesh wound!\"\n",
    "type(a)"
   ]
  },
  {
   "cell_type": "code",
   "execution_count": null,
   "metadata": {},
   "outputs": [],
   "source": [
    "type(b)"
   ]
  },
  {
   "cell_type": "code",
   "execution_count": null,
   "metadata": {},
   "outputs": [],
   "source": [
    "type(c)"
   ]
  },
  {
   "cell_type": "markdown",
   "metadata": {},
   "source": [
    "Directly combining variables of different types usually creates a `TypeError`. Python can  automatically convert some of them, e.g. `int` to `float`. \n",
    "(Python is dynamically strongly typed)\n"
   ]
  },
  {
   "cell_type": "code",
   "execution_count": null,
   "metadata": {},
   "outputs": [],
   "source": [
    "a / b"
   ]
  },
  {
   "cell_type": "code",
   "execution_count": null,
   "metadata": {},
   "outputs": [],
   "source": [
    "a + c"
   ]
  },
  {
   "cell_type": "markdown",
   "metadata": {},
   "source": [
    "### Modules in Python\n",
    "\n",
    "* Module is a collection of definitions.\n",
    "* In order to use modules in your script or interpreter, you need to import them, e.g.:\n"
   ]
  },
  {
   "cell_type": "code",
   "execution_count": null,
   "metadata": {},
   "outputs": [],
   "source": [
    "import math"
   ]
  },
  {
   "cell_type": "markdown",
   "metadata": {},
   "source": [
    "Functions of imported modules can be accessed with a `.`, such as:"
   ]
  },
  {
   "cell_type": "code",
   "execution_count": null,
   "metadata": {},
   "outputs": [],
   "source": [
    "math.sqrt(3)"
   ]
  },
  {
   "cell_type": "markdown",
   "metadata": {},
   "source": [
    "You can import specific definitions from a module, e.g.:"
   ]
  },
  {
   "cell_type": "code",
   "execution_count": null,
   "metadata": {},
   "outputs": [],
   "source": [
    "from math import sqrt\n",
    "sqrt(5)"
   ]
  },
  {
   "cell_type": "markdown",
   "metadata": {},
   "source": [
    "You can also import all the definitions from a specific module, e.g.:\n"
   ]
  },
  {
   "cell_type": "code",
   "execution_count": null,
   "metadata": {},
   "outputs": [],
   "source": [
    "from math import *\n"
   ]
  },
  {
   "cell_type": "markdown",
   "metadata": {},
   "source": [
    "**This way is**, however, **disencouraged** because it clutters your namespace (an exception might be build-in modules, like math). If two modules that you import have a function that has the same name, you cannot be sure which function you are calling, nor can readers of your code! As an example:"
   ]
  },
  {
   "cell_type": "code",
   "execution_count": null,
   "metadata": {},
   "outputs": [],
   "source": [
    "help(sqrt)"
   ]
  },
  {
   "cell_type": "markdown",
   "metadata": {},
   "source": [
    "If we import the `numpy` package which comes with a `sqrt()` function as well, we overwrite the old definition:"
   ]
  },
  {
   "cell_type": "code",
   "execution_count": null,
   "metadata": {},
   "outputs": [],
   "source": [
    "from numpy import *"
   ]
  },
  {
   "cell_type": "code",
   "execution_count": null,
   "metadata": {},
   "outputs": [],
   "source": [
    "sqrt?"
   ]
  },
  {
   "cell_type": "markdown",
   "metadata": {},
   "source": [
    "If you do not want to write out module names to access their functions, you can import an entire module by importing it with an alias. A better way of importing the `numpy` module is:"
   ]
  },
  {
   "cell_type": "code",
   "execution_count": null,
   "metadata": {},
   "outputs": [],
   "source": [
    "import numpy as np\n",
    "from math import *"
   ]
  },
  {
   "cell_type": "code",
   "execution_count": null,
   "metadata": {},
   "outputs": [],
   "source": [
    "sqrt?"
   ]
  },
  {
   "cell_type": "code",
   "execution_count": null,
   "metadata": {},
   "outputs": [],
   "source": [
    "np.sqrt?"
   ]
  },
  {
   "cell_type": "markdown",
   "metadata": {},
   "source": [
    "### Strings\n",
    "\n",
    "* a string is a sequence of characters\n",
    "* strings must be enclosed in quotes (to distinguish them from variable names)\n",
    "* certain characters must be escaped by backlashes, e.g. `\"\\ \"`\n"
   ]
  },
  {
   "cell_type": "code",
   "execution_count": null,
   "metadata": {},
   "outputs": [],
   "source": [
    "\"doesn\\'t\""
   ]
  },
  {
   "cell_type": "markdown",
   "metadata": {},
   "source": [
    "certain characters are \"invisible\", e.g. use `\"\\n\"` to indicate the end of a line"
   ]
  },
  {
   "cell_type": "markdown",
   "metadata": {},
   "source": [
    "### Strings and print\n",
    "\n",
    "The `print` statement produces a more readable output for strings, e.g."
   ]
  },
  {
   "cell_type": "code",
   "execution_count": null,
   "metadata": {},
   "outputs": [],
   "source": [
    "hello = \"This is a rather long string containing\\n several lines of text just as you would do in C. \\n         Whitespace at beginning of the line is  significant.\"\n",
    "print(hello)"
   ]
  },
  {
   "cell_type": "markdown",
   "metadata": {},
   "source": [
    "* spaces are also characters:"
   ]
  },
  {
   "cell_type": "code",
   "execution_count": null,
   "metadata": {},
   "outputs": [],
   "source": [
    "a = \"dorota\"\n",
    "len(a)"
   ]
  },
  {
   "cell_type": "code",
   "execution_count": null,
   "metadata": {},
   "outputs": [],
   "source": [
    "b = \"dorota \"\n",
    "len(b)"
   ]
  },
  {
   "cell_type": "markdown",
   "metadata": {},
   "source": [
    "* two (or more) strings can be merged into one by using ”+\":"
   ]
  },
  {
   "cell_type": "code",
   "execution_count": null,
   "metadata": {},
   "outputs": [],
   "source": [
    "b + a"
   ]
  },
  {
   "cell_type": "markdown",
   "metadata": {},
   "source": [
    "* elements of a strings can be subscripted (indexed)\n",
    "* the first character of a string has subscript (index) 0\n"
   ]
  },
  {
   "cell_type": "code",
   "execution_count": null,
   "metadata": {},
   "outputs": [],
   "source": [
    "word = 'Help'\n",
    "word[1]"
   ]
  },
  {
   "cell_type": "markdown",
   "metadata": {},
   "source": [
    "* substrings can be specified with the slice notation: two indices separated by a colon\n",
    "* the first index is inclusive, the terminating second index is exclusive"
   ]
  },
  {
   "cell_type": "code",
   "execution_count": null,
   "metadata": {},
   "outputs": [],
   "source": [
    "word[0:2]"
   ]
  },
  {
   "cell_type": "markdown",
   "metadata": {},
   "source": [
    "* indices may be negative numbers, to start counting from the right:\n"
   ]
  },
  {
   "cell_type": "code",
   "execution_count": null,
   "metadata": {},
   "outputs": [],
   "source": [
    "word[-2]"
   ]
  },
  {
   "cell_type": "markdown",
   "metadata": {},
   "source": [
    "Omitting a slice index means \"start from beginning\" or \"end with (inlcuding) the last index\":"
   ]
  },
  {
   "cell_type": "code",
   "execution_count": null,
   "metadata": {},
   "outputs": [],
   "source": [
    "word[-2:]"
   ]
  },
  {
   "cell_type": "code",
   "execution_count": null,
   "metadata": {},
   "outputs": [],
   "source": [
    "word[:-2]"
   ]
  },
  {
   "cell_type": "markdown",
   "metadata": {},
   "source": [
    "Python strings cannot be changed - assigning to an indexed position in the string results in an error:"
   ]
  },
  {
   "cell_type": "code",
   "execution_count": null,
   "metadata": {},
   "outputs": [],
   "source": [
    "word[0] = 'x'"
   ]
  },
  {
   "cell_type": "markdown",
   "metadata": {},
   "source": [
    "#### Some interesting methods"
   ]
  },
  {
   "cell_type": "markdown",
   "metadata": {},
   "source": [
    "The ```rstrip()``` method returns a copy of the string in which all chars have been stripped from the end of the string"
   ]
  },
  {
   "cell_type": "markdown",
   "metadata": {},
   "source": [
    "```rstrip()``` takes one input, which is what you want to remove from the end of a string and it remove white spaces by default if the input is not given."
   ]
  },
  {
   "cell_type": "code",
   "execution_count": null,
   "metadata": {},
   "outputs": [],
   "source": [
    "string = 'e-sceince 20190000000'\n",
    "print(string.rstrip('0'))"
   ]
  },
  {
   "cell_type": "code",
   "execution_count": null,
   "metadata": {},
   "outputs": [],
   "source": [
    "string0 = '    '\n",
    "print(len(string0))\n",
    "print(len(string0.strip()))"
   ]
  },
  {
   "cell_type": "code",
   "execution_count": null,
   "metadata": {
    "scrolled": true
   },
   "outputs": [],
   "source": [
    "string1 = '\\n'\n",
    "print(string1)\n",
    "print(len(string1))\n",
    "print(len(string1.strip()))"
   ]
  },
  {
   "cell_type": "markdown",
   "metadata": {},
   "source": [
    "```split()``` method returns a list of strings after breaking the given string by the specified separator. ```split()``` takes one input which is a seperator and it takes whitespace if input is not given by default."
   ]
  },
  {
   "cell_type": "code",
   "execution_count": null,
   "metadata": {},
   "outputs": [],
   "source": [
    "text = 'geeks for geeks'\n",
    "  \n",
    "# Splits at space \n",
    "print(text.split()) "
   ]
  },
  {
   "cell_type": "markdown",
   "metadata": {},
   "source": [
    "The ```join()``` method provides a flexible way to concatenate string. It concatenates each element of an iterable (such as list, string and tuple) to the string and returns the concatenated string"
   ]
  },
  {
   "cell_type": "code",
   "execution_count": null,
   "metadata": {},
   "outputs": [],
   "source": [
    "new_text = \",\".join(text.split())\n",
    "print(new_text)"
   ]
  },
  {
   "cell_type": "markdown",
   "metadata": {},
   "source": [
    "### Lists\n",
    "\n",
    "#### What are Lists?\n",
    "\n",
    "A list is the first type of **data structure** that we meet in this course. While \"data structure\" may sound complicated, is just a collection of data elements (e.g. numbers or strings) that is structured in some way (e.g. by numbering the elements). The list is a sequence, where each element has an index, i.e. its position in the list.\n",
    "\n",
    "You can create a new list using the square brackets ```[]```, or the ```list()``` function: \n"
   ]
  },
  {
   "cell_type": "markdown",
   "metadata": {},
   "source": [
    "#### Examples"
   ]
  },
  {
   "cell_type": "code",
   "execution_count": null,
   "metadata": {},
   "outputs": [],
   "source": [
    "list1 = [\"first\", \"second\", \"third\"]\n",
    "list2 = [1, 2, 3]\n",
    "list3 = ['cake', 4, 7.9, \"apple\"]\n",
    "emptyList = []"
   ]
  },
  {
   "cell_type": "markdown",
   "metadata": {},
   "source": [
    "* Values don’t have to be of the same type\n",
    "* Lists can be modified after creation (they are *mutable* )\n",
    "* Elements can be changed, added, and deleted\n",
    "* Lists are versatile and are used extensively in typical Python code\n"
   ]
  },
  {
   "cell_type": "markdown",
   "metadata": {},
   "source": [
    "## Accessing elements in a list"
   ]
  },
  {
   "cell_type": "markdown",
   "metadata": {},
   "source": [
    "Just like you did this morning - accessing elements of strings - elements in a list are accessed by their index.\n",
    "\n",
    "Remember:\n",
    "+ index by **square brackets```[]```**\n",
    "+ note how **index starts at zero!**"
   ]
  },
  {
   "cell_type": "code",
   "execution_count": null,
   "metadata": {},
   "outputs": [],
   "source": [
    "list1[1]"
   ]
  },
  {
   "cell_type": "code",
   "execution_count": null,
   "metadata": {},
   "outputs": [],
   "source": [
    "list1[0]"
   ]
  },
  {
   "cell_type": "markdown",
   "metadata": {},
   "source": [
    "negative indexes go back from the end:"
   ]
  },
  {
   "cell_type": "code",
   "execution_count": null,
   "metadata": {},
   "outputs": [],
   "source": [
    "list1[-1]"
   ]
  },
  {
   "cell_type": "markdown",
   "metadata": {},
   "source": [
    "Trying to access an element in a list that is out of range throws an ```IndexError```; good to know how long the list is ..."
   ]
  },
  {
   "cell_type": "code",
   "execution_count": null,
   "metadata": {
    "scrolled": true
   },
   "outputs": [],
   "source": [
    "list1[4]"
   ]
  },
  {
   "cell_type": "code",
   "execution_count": null,
   "metadata": {},
   "outputs": [],
   "source": [
    "len(list1)"
   ]
  },
  {
   "cell_type": "markdown",
   "metadata": {},
   "source": [
    "### Modify your list!"
   ]
  },
  {
   "cell_type": "markdown",
   "metadata": {},
   "source": [
    "Remember that lists are **mutable**? This means that we can **change**, **add** and **remove** items from a list!"
   ]
  },
  {
   "cell_type": "markdown",
   "metadata": {},
   "source": [
    "### Changing Items"
   ]
  },
  {
   "cell_type": "code",
   "execution_count": null,
   "metadata": {},
   "outputs": [],
   "source": [
    "list2"
   ]
  },
  {
   "cell_type": "code",
   "execution_count": null,
   "metadata": {},
   "outputs": [],
   "source": [
    "list2[0] = 4"
   ]
  },
  {
   "cell_type": "code",
   "execution_count": null,
   "metadata": {},
   "outputs": [],
   "source": [
    "list2"
   ]
  },
  {
   "cell_type": "markdown",
   "metadata": {},
   "source": [
    "Assigning to a position past the end of the list also throws an ```IndexError```"
   ]
  },
  {
   "cell_type": "code",
   "execution_count": null,
   "metadata": {},
   "outputs": [],
   "source": [
    "list2[5] = 9"
   ]
  },
  {
   "cell_type": "markdown",
   "metadata": {},
   "source": [
    "### 2. Appending and Extending"
   ]
  },
  {
   "cell_type": "code",
   "execution_count": null,
   "metadata": {},
   "outputs": [],
   "source": [
    "list1.append(\"fourth\")"
   ]
  },
  {
   "cell_type": "code",
   "execution_count": null,
   "metadata": {},
   "outputs": [],
   "source": [
    "list1"
   ]
  },
  {
   "cell_type": "markdown",
   "metadata": {},
   "source": [
    "If you want to append more than one item, you can use the ```extend ``` function:"
   ]
  },
  {
   "cell_type": "code",
   "execution_count": null,
   "metadata": {},
   "outputs": [],
   "source": [
    "list1.extend(['1',2,4,5])"
   ]
  },
  {
   "cell_type": "code",
   "execution_count": null,
   "metadata": {},
   "outputs": [],
   "source": [
    "list1"
   ]
  },
  {
   "cell_type": "markdown",
   "metadata": {},
   "source": [
    "### Removing and Inserting Items"
   ]
  },
  {
   "cell_type": "markdown",
   "metadata": {},
   "source": [
    "Items at arbitrary positions can be removed using the ```del``` statement:"
   ]
  },
  {
   "cell_type": "code",
   "execution_count": null,
   "metadata": {},
   "outputs": [],
   "source": [
    "list1"
   ]
  },
  {
   "cell_type": "code",
   "execution_count": null,
   "metadata": {},
   "outputs": [],
   "source": [
    "del(list1[2])"
   ]
  },
  {
   "cell_type": "code",
   "execution_count": null,
   "metadata": {},
   "outputs": [],
   "source": [
    "list1"
   ]
  },
  {
   "cell_type": "markdown",
   "metadata": {},
   "source": [
    "Alternatively, you can use the ```pop``` function:"
   ]
  },
  {
   "cell_type": "markdown",
   "metadata": {},
   "source": [
    "The pop() function removes and return an element of a given list. It takes one input, which is an index of the element you want to remove. It removes and return the last element of the list by default, if the index input is not given."
   ]
  },
  {
   "cell_type": "code",
   "execution_count": null,
   "metadata": {},
   "outputs": [],
   "source": [
    "you = list(range(10)) # create a list of numbers from 0 to 9\n",
    "print(you) # printing you list\n",
    "print(you.pop(-4)) # removing and printing the 4th element in you list.\n",
    "print(you) # print the you list after above process.\n",
    "print(you.pop()) # removing and printing the last element in you list.\n",
    "print(you) # printing the you list after above process."
   ]
  },
  {
   "cell_type": "markdown",
   "metadata": {},
   "source": [
    "```insert``` function: ```insert(index, item)```"
   ]
  },
  {
   "cell_type": "markdown",
   "metadata": {},
   "source": [
    "The ```insert(index, item)``` function takes two input, the index of where a new element is going to be inserted and the new element to be inserted."
   ]
  },
  {
   "cell_type": "code",
   "execution_count": null,
   "metadata": {},
   "outputs": [],
   "source": [
    "you.insert(2, \"three\")"
   ]
  },
  {
   "cell_type": "code",
   "execution_count": null,
   "metadata": {},
   "outputs": [],
   "source": [
    "you"
   ]
  },
  {
   "cell_type": "markdown",
   "metadata": {},
   "source": [
    "Note: appending items to the end of the list using ```append``` is more efficient than inserting at the end"
   ]
  },
  {
   "cell_type": "markdown",
   "metadata": {},
   "source": [
    "### Adding lists = concatenating lists"
   ]
  },
  {
   "cell_type": "code",
   "execution_count": null,
   "metadata": {},
   "outputs": [],
   "source": [
    "him = [1,2,3]\n",
    "her = ['a','b','c']\n",
    "them = him + her"
   ]
  },
  {
   "cell_type": "code",
   "execution_count": null,
   "metadata": {},
   "outputs": [],
   "source": [
    "them"
   ]
  },
  {
   "cell_type": "markdown",
   "metadata": {},
   "source": [
    "### Multiplying lists"
   ]
  },
  {
   "cell_type": "markdown",
   "metadata": {},
   "source": [
    "Multiplying a list by a number *does not* multiply the elements of the list, but **the whole list**:\n",
    "\n",
    "(NB: this is specific to sequences. Other data structures have element-wise multiplication as you will see later in the course)"
   ]
  },
  {
   "cell_type": "code",
   "execution_count": null,
   "metadata": {},
   "outputs": [],
   "source": [
    "multi = them*2\n",
    "multi"
   ]
  },
  {
   "cell_type": "markdown",
   "metadata": {},
   "source": [
    "## List slicing"
   ]
  },
  {
   "cell_type": "markdown",
   "metadata": {},
   "source": [
    "A copy of a sublist can be created using the **slice operator** ```list[start:end]```\n",
    "The element at the index **start is included**, the one at **end is excluded** (remember slicing strings with Fabian this morning?)\n",
    "\n",
    "Both indices can be ommitted, defaulting to the start and end of the list respectively"
   ]
  },
  {
   "cell_type": "code",
   "execution_count": null,
   "metadata": {},
   "outputs": [],
   "source": [
    "print(len(multi[0:5]))\n",
    "multi[0:5]"
   ]
  },
  {
   "cell_type": "code",
   "execution_count": null,
   "metadata": {},
   "outputs": [],
   "source": [
    "multi[4:]"
   ]
  },
  {
   "cell_type": "code",
   "execution_count": null,
   "metadata": {},
   "outputs": [],
   "source": [
    "multi[:6]"
   ]
  },
  {
   "cell_type": "code",
   "execution_count": null,
   "metadata": {},
   "outputs": [],
   "source": [
    "multi[:]"
   ]
  },
  {
   "cell_type": "markdown",
   "metadata": {},
   "source": [
    "To slice in bigger steps, include a stepsize:"
   ]
  },
  {
   "cell_type": "code",
   "execution_count": null,
   "metadata": {},
   "outputs": [],
   "source": [
    "multi[0::2]"
   ]
  },
  {
   "cell_type": "markdown",
   "metadata": {},
   "source": [
    "### ```range()```"
   ]
  },
  {
   "cell_type": "markdown",
   "metadata": {},
   "source": [
    "+ One very commonly needed list is the list of consecutive integers (e.g. for looping – more about that in a bit)\n",
    "+ The built-in ```range([start], end)``` function creates such lists"
   ]
  },
  {
   "cell_type": "code",
   "execution_count": 1,
   "metadata": {},
   "outputs": [
    {
     "data": {
      "text/plain": [
       "[0, 1, 2, 3, 4, 5, 6, 7, 8, 9]"
      ]
     },
     "execution_count": 1,
     "metadata": {},
     "output_type": "execute_result"
    }
   ],
   "source": [
    "myrange = list(range(10))\n",
    "myrange"
   ]
  },
  {
   "cell_type": "code",
   "execution_count": null,
   "metadata": {},
   "outputs": [],
   "source": [
    "range(3,15)"
   ]
  },
  {
   "cell_type": "code",
   "execution_count": null,
   "metadata": {},
   "outputs": [],
   "source": [
    "list(range(3,15))"
   ]
  },
  {
   "cell_type": "code",
   "execution_count": null,
   "metadata": {},
   "outputs": [],
   "source": []
  }
 ],
 "metadata": {
  "anaconda-cloud": {},
  "kernelspec": {
   "display_name": "Python 3",
   "language": "python",
   "name": "python3"
  },
  "language_info": {
   "codemirror_mode": {
    "name": "ipython",
    "version": 3
   },
   "file_extension": ".py",
   "mimetype": "text/x-python",
   "name": "python",
   "nbconvert_exporter": "python",
   "pygments_lexer": "ipython3",
   "version": "3.7.1"
  }
 },
 "nbformat": 4,
 "nbformat_minor": 2
}
