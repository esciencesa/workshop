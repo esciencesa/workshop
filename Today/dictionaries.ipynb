{
 "cells": [
  {
   "cell_type": "markdown",
   "metadata": {},
   "source": [
    "### Dictionaries"
   ]
  },
  {
   "cell_type": "markdown",
   "metadata": {},
   "source": [
    "## Data types: Story so far"
   ]
  },
  {
   "cell_type": "markdown",
   "metadata": {},
   "source": [
    "* Basic types\n",
    "    - Integers int:  \n",
    "    ..., -2, -1, 0, 1, 2, 3,...\n",
    "    - Floating point numbers float:      \n",
    "    0.05, 3.1415, 2.0, 62.8318, ...\n",
    "    - Strings str:  \n",
    "    \"hello\", ’John Doe’, ...\n",
    "* Compound data types (data that contains other data):\n",
    "    - Lists list:  \n",
    "    [1, 2, 3], [’alice’, ’bob’, 7]\n",
    "    - Dictionaries dict:\n",
    "    - others (np.array, tuple, set)"
   ]
  },
  {
   "cell_type": "markdown",
   "metadata": {},
   "source": [
    "## Problems with lists"
   ]
  },
  {
   "cell_type": "markdown",
   "metadata": {},
   "source": [
    "Suppose we store and retrieve age of Bob and Alice:"
   ]
  },
  {
   "cell_type": "code",
   "execution_count": 1,
   "metadata": {},
   "outputs": [
    {
     "name": "stdout",
     "output_type": "stream",
     "text": [
      "['bob', 23]\n",
      "23\n"
     ]
    }
   ],
   "source": [
    "ages = [['bob', 23], ['alice',25]]\n",
    "print(ages[0])\n",
    "print(ages[0][1])\n"
   ]
  },
  {
   "cell_type": "markdown",
   "metadata": {},
   "source": [
    "Have to remember Bob is index 0 and Alice is index 1\n",
    "\n",
    "*  Not going to work when there are lots of people.\n",
    "*  Would be much easier to not need to remember.  \n",
    "\n",
    "Instead use dictionaries"
   ]
  },
  {
   "cell_type": "code",
   "execution_count": 2,
   "metadata": {},
   "outputs": [
    {
     "name": "stdout",
     "output_type": "stream",
     "text": [
      "23\n",
      "25\n"
     ]
    }
   ],
   "source": [
    "ages = {'bob': 23, 'alice': 25}\n",
    "print(ages['bob'])\n",
    "print(ages['alice'])"
   ]
  },
  {
   "cell_type": "markdown",
   "metadata": {},
   "source": [
    "What are dictionaries?"
   ]
  },
  {
   "cell_type": "markdown",
   "metadata": {},
   "source": [
    "* Values in a dictionary can be found using a key.\n",
    "    - Values in a dictionary can be anything.\n",
    "    - Keys can be anything that is immutable.\n",
    "        - e.g., strings, integers, floats, tuples, sets.\n",
    "* A dictionary uses curly braces: {}"
   ]
  },
  {
   "cell_type": "code",
   "execution_count": 5,
   "metadata": {},
   "outputs": [],
   "source": [
    "empty_dict = {}\n",
    "dict1 = {100: 'hundred', 1: 'one', 10: 'ten'}\n",
    "dict2 = {'bob':['england', -10],\n",
    "         'alice':['england', -5],\n",
    "         'mallory': ['usa',100]}\n"
   ]
  },
  {
   "cell_type": "markdown",
   "metadata": {},
   "source": [
    "Dictionaries may be visualised as a mapping from a key to\n",
    "a value."
   ]
  },
  {
   "cell_type": "code",
   "execution_count": 6,
   "metadata": {},
   "outputs": [],
   "source": [
    "dict3 = {'a': 'alpha', 'g': 'gamma', 'o':\n",
    "'omega'}"
   ]
  },
  {
   "cell_type": "markdown",
   "metadata": {},
   "source": [
    "## Things dictionaries can do"
   ]
  },
  {
   "cell_type": "markdown",
   "metadata": {},
   "source": [
    "* Dictionaries are mutable. You can change them.\n",
    "* Keys find associated values quickly.\n",
    "* Associations between keys and values can be added, deleted and changed.\n",
    "* Dictionaries are often useful in Python code:\n",
    "    - Efficiently associate a key with a value."
   ]
  },
  {
   "cell_type": "markdown",
   "metadata": {},
   "source": [
    "## Accessing values"
   ]
  },
  {
   "cell_type": "code",
   "execution_count": 7,
   "metadata": {},
   "outputs": [
    {
     "name": "stdout",
     "output_type": "stream",
     "text": [
      "hundred\n",
      "['england', -10]\n",
      "100\n"
     ]
    }
   ],
   "source": [
    "print(dict1[100])\n",
    "print(dict2['bob'])\n",
    "print(dict2['mallory'][1])"
   ]
  },
  {
   "cell_type": "markdown",
   "metadata": {},
   "source": [
    "## Length and missing items"
   ]
  },
  {
   "cell_type": "markdown",
   "metadata": {},
   "source": [
    "The number of items in a dictionary can be determined using the len() function"
   ]
  },
  {
   "cell_type": "code",
   "execution_count": 9,
   "metadata": {},
   "outputs": [
    {
     "data": {
      "text/plain": [
       "3"
      ]
     },
     "execution_count": 9,
     "metadata": {},
     "output_type": "execute_result"
    }
   ],
   "source": [
    "len(dict1)"
   ]
  },
  {
   "cell_type": "markdown",
   "metadata": {},
   "source": [
    "Trying to retrieve an item using a key that is not in the\n",
    "dictionary throws an KeyError:"
   ]
  },
  {
   "cell_type": "code",
   "execution_count": 10,
   "metadata": {},
   "outputs": [
    {
     "name": "stdout",
     "output_type": "stream",
     "text": [
      "{100: 'hundred', 1: 'one', 10: 'ten'}\n"
     ]
    },
    {
     "ename": "KeyError",
     "evalue": "1000",
     "output_type": "error",
     "traceback": [
      "\u001b[1;31m---------------------------------------------------------------------------\u001b[0m",
      "\u001b[1;31mKeyError\u001b[0m                                  Traceback (most recent call last)",
      "\u001b[1;32m<ipython-input-10-70adea7e3b53>\u001b[0m in \u001b[0;36m<module>\u001b[1;34m()\u001b[0m\n\u001b[0;32m      1\u001b[0m \u001b[0mprint\u001b[0m\u001b[1;33m(\u001b[0m\u001b[0mdict1\u001b[0m\u001b[1;33m)\u001b[0m\u001b[1;33m\u001b[0m\u001b[0m\n\u001b[1;32m----> 2\u001b[1;33m \u001b[0mdict1\u001b[0m\u001b[1;33m[\u001b[0m\u001b[1;36m1000\u001b[0m\u001b[1;33m]\u001b[0m \u001b[1;31m# 1000 is not a key\u001b[0m\u001b[1;33m\u001b[0m\u001b[0m\n\u001b[0m",
      "\u001b[1;31mKeyError\u001b[0m: 1000"
     ]
    }
   ],
   "source": [
    "print(dict1)\n",
    "dict1[1000] # 1000 is not a key "
   ]
  },
  {
   "cell_type": "markdown",
   "metadata": {},
   "source": [
    "## Keys and values"
   ]
  },
  {
   "cell_type": "markdown",
   "metadata": {},
   "source": [
    "A list of keys in a dictionary can be found using the .keys() member function:"
   ]
  },
  {
   "cell_type": "code",
   "execution_count": 19,
   "metadata": {
    "scrolled": true
   },
   "outputs": [
    {
     "name": "stdout",
     "output_type": "stream",
     "text": [
      "dict_keys([100, 1, 10])\n"
     ]
    }
   ],
   "source": [
    "print(dict1.keys())"
   ]
  },
  {
   "cell_type": "markdown",
   "metadata": {},
   "source": [
    "Likewise, a list of values in a dictionary can be found using\n",
    "the .values() member function:"
   ]
  },
  {
   "cell_type": "code",
   "execution_count": 15,
   "metadata": {},
   "outputs": [
    {
     "name": "stdout",
     "output_type": "stream",
     "text": [
      "dict_values(['hundred', 'one', 'ten'])\n"
     ]
    }
   ],
   "source": [
    "print(dict1.values())"
   ]
  },
  {
   "cell_type": "markdown",
   "metadata": {},
   "source": [
    "You can also get both together, using the .items() member function:"
   ]
  },
  {
   "cell_type": "code",
   "execution_count": 20,
   "metadata": {},
   "outputs": [
    {
     "name": "stdout",
     "output_type": "stream",
     "text": [
      "dict_items([(100, 'hundred'), (1, 'one'), (10, 'ten')])\n",
      "dict_items([('bob', ['england', -10]), ('alice', ['england', -5]), ('mallory', ['usa', 100])])\n"
     ]
    }
   ],
   "source": [
    "print(dict1.items()) # returns a list of tuples\n",
    "print(dict2.items()) # returns a list of immutable lists"
   ]
  },
  {
   "cell_type": "markdown",
   "metadata": {},
   "source": [
    "## Testing for keys"
   ]
  },
  {
   "cell_type": "markdown",
   "metadata": {},
   "source": [
    "One can efficiently test if a key is in a dictionary: use the in operator."
   ]
  },
  {
   "cell_type": "code",
   "execution_count": 21,
   "metadata": {},
   "outputs": [
    {
     "name": "stdout",
     "output_type": "stream",
     "text": [
      "{100: 'hundred', 1: 'one', 10: 'ten'}\n",
      "True\n",
      "False\n",
      "the dictionary contains 100\n"
     ]
    }
   ],
   "source": [
    "print(dict1)\n",
    "print(100 in dict1)\n",
    "print(1000 in dict1)\n",
    "if 100 in dict1:\n",
    "    print('the dictionary contains 100')"
   ]
  },
  {
   "cell_type": "markdown",
   "metadata": {},
   "source": [
    "## Adding items"
   ]
  },
  {
   "cell_type": "code",
   "execution_count": 22,
   "metadata": {},
   "outputs": [
    {
     "name": "stdout",
     "output_type": "stream",
     "text": [
      "True\n",
      "france\n",
      "{'bob': ['england', -10], 'alice': ['england', -5], 'mallory': ['usa', 100], 'ezekiel': ['france', 50]}\n"
     ]
    }
   ],
   "source": [
    "dict1[1000] = 'thousand' # adding item to dict1\n",
    "print(1000 in dict1) # testing for key\n",
    "\n",
    "dict2['ezekiel'] = ['france', 50] # adding item to dict2\n",
    "print(dict2['ezekiel'][0])\n",
    "print(dict2)"
   ]
  },
  {
   "cell_type": "markdown",
   "metadata": {},
   "source": [
    "You can add items by using a key that has not been used yet."
   ]
  },
  {
   "cell_type": "markdown",
   "metadata": {},
   "source": [
    "## Modifying items"
   ]
  },
  {
   "cell_type": "markdown",
   "metadata": {},
   "source": [
    "Items can be modified from a dictionary just like in a list:"
   ]
  },
  {
   "cell_type": "code",
   "execution_count": 23,
   "metadata": {},
   "outputs": [
    {
     "name": "stdout",
     "output_type": "stream",
     "text": [
      "['england', -5]\n",
      "['england', -15]\n"
     ]
    }
   ],
   "source": [
    "dict2['bob'] = ['england', -5]\n",
    "print(dict2['bob'])\n",
    "dict2['bob'][1] = -15\n",
    "print(dict2['bob'])"
   ]
  },
  {
   "cell_type": "markdown",
   "metadata": {},
   "source": [
    "## Removing items"
   ]
  },
  {
   "cell_type": "markdown",
   "metadata": {},
   "source": [
    "Similarly, items can be removed from a dictionary using the del operator:"
   ]
  },
  {
   "cell_type": "code",
   "execution_count": 24,
   "metadata": {},
   "outputs": [
    {
     "name": "stdout",
     "output_type": "stream",
     "text": [
      "True\n",
      "False\n"
     ]
    },
    {
     "ename": "KeyError",
     "evalue": "'mallory'",
     "output_type": "error",
     "traceback": [
      "\u001b[1;31m---------------------------------------------------------------------------\u001b[0m",
      "\u001b[1;31mKeyError\u001b[0m                                  Traceback (most recent call last)",
      "\u001b[1;32m<ipython-input-24-372b69de74a9>\u001b[0m in \u001b[0;36m<module>\u001b[1;34m()\u001b[0m\n\u001b[0;32m      2\u001b[0m \u001b[1;32mdel\u001b[0m \u001b[0mdict2\u001b[0m\u001b[1;33m[\u001b[0m\u001b[1;34m'mallory'\u001b[0m\u001b[1;33m]\u001b[0m\u001b[1;33m\u001b[0m\u001b[0m\n\u001b[0;32m      3\u001b[0m \u001b[0mprint\u001b[0m\u001b[1;33m(\u001b[0m\u001b[1;34m'mallory'\u001b[0m \u001b[1;32min\u001b[0m \u001b[0mdict2\u001b[0m\u001b[1;33m)\u001b[0m\u001b[1;33m\u001b[0m\u001b[0m\n\u001b[1;32m----> 4\u001b[1;33m \u001b[0mprint\u001b[0m\u001b[1;33m(\u001b[0m\u001b[0mdict2\u001b[0m\u001b[1;33m[\u001b[0m\u001b[1;34m'mallory'\u001b[0m\u001b[1;33m]\u001b[0m\u001b[1;33m)\u001b[0m\u001b[1;33m\u001b[0m\u001b[0m\n\u001b[0m",
      "\u001b[1;31mKeyError\u001b[0m: 'mallory'"
     ]
    }
   ],
   "source": [
    "print('mallory' in dict2)\n",
    "del dict2['mallory']\n",
    "print('mallory' in dict2)\n",
    "print(dict2['mallory'])"
   ]
  },
  {
   "cell_type": "markdown",
   "metadata": {},
   "source": [
    "## Iterating over items"
   ]
  },
  {
   "cell_type": "markdown",
   "metadata": {},
   "source": [
    "Two common ways of iterating over the items of a dictionary:"
   ]
  },
  {
   "cell_type": "code",
   "execution_count": 25,
   "metadata": {},
   "outputs": [
    {
     "name": "stdout",
     "output_type": "stream",
     "text": [
      "100 hundred\n",
      "1 one\n",
      "10 ten\n",
      "1000 thousand\n",
      "100 hundred\n",
      "1 one\n",
      "10 ten\n",
      "1000 thousand\n"
     ]
    }
   ],
   "source": [
    "for key in dict1:\n",
    "    print(key, dict1[key])\n",
    "\n",
    "for key, value in dict1.items():\n",
    "    print(key, value)"
   ]
  },
  {
   "cell_type": "markdown",
   "metadata": {},
   "source": [
    "Note that the order in which items are visited in a dictionary\n",
    "is arbitary!"
   ]
  },
  {
   "cell_type": "code",
   "execution_count": 26,
   "metadata": {},
   "outputs": [
    {
     "name": "stdout",
     "output_type": "stream",
     "text": [
      "bob ['england', -15]\n",
      "alice ['england', -5]\n",
      "ezekiel ['france', 50]\n"
     ]
    }
   ],
   "source": [
    "for key, value in dict2.items():\n",
    "    print(key, value)"
   ]
  },
  {
   "cell_type": "markdown",
   "metadata": {},
   "source": [
    "Dictionaries are **not** ordered. List are ordered."
   ]
  },
  {
   "cell_type": "markdown",
   "metadata": {},
   "source": [
    "## Computational efficiency"
   ]
  },
  {
   "cell_type": "markdown",
   "metadata": {},
   "source": [
    "* Memory used by dictionaries is proportional to the number of items in a dictionary.\n",
    "* Dictionaries in python are a data structure known as hash tables.\n",
    "* Inserting a new item and looking up items in a dictionary by the key is O(1) on average.\n",
    "* Removing any item from a dictionary is close to O(1) in practice.\n",
    "* But:\n",
    "    - The order of data items is not fixed.\n",
    "    - Only immutable objects may be used as keys.\n",
    "    - Any object may be stored as a value in a dictionary under a key."
   ]
  }
 ],
 "metadata": {
  "kernelspec": {
   "display_name": "Python 3",
   "language": "python",
   "name": "python3"
  },
  "language_info": {
   "codemirror_mode": {
    "name": "ipython",
    "version": 3
   },
   "file_extension": ".py",
   "mimetype": "text/x-python",
   "name": "python",
   "nbconvert_exporter": "python",
   "pygments_lexer": "ipython3",
   "version": "3.7.1"
  }
 },
 "nbformat": 4,
 "nbformat_minor": 2
}
