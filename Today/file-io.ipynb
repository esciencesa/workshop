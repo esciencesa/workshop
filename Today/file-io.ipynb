{
 "cells": [
  {
   "cell_type": "markdown",
   "metadata": {},
   "source": [
    "# Session 3: File Input/Output"
   ]
  },
  {
   "cell_type": "markdown",
   "metadata": {},
   "source": [
    "## File I/O: Basic"
   ]
  },
  {
   "cell_type": "markdown",
   "metadata": {},
   "source": [
    "* Data on a computer is usually stored in **files**\n",
    "* From the view of the operating system, a file is just a sequence of\n",
    "    bits that is given a name\n",
    "* What data is stored in a file and how exactly it is stored in a file\n",
    "    is defined in a **file format**\n",
    "* The file format defines what the bits mean to the program that is reading/writing\n",
    "    the file\n",
    "* ***Note:*** The **file extension** (e.g. whether the name of a file ends\n",
    "    in **.txt** or **.doc** does not determine the file format (it is\n",
    "    just a name) -- but it makes sense to name files according to their format"
   ]
  },
  {
   "cell_type": "markdown",
   "metadata": {},
   "source": [
    "## File I/O: Writing to a Text File"
   ]
  },
  {
   "cell_type": "markdown",
   "metadata": {},
   "source": [
    "* A very common and useful file format is one where the sequence of bits\n",
    "    is interpreted as sequence of characters\n",
    "* This conversion is performed with respect to a character set\n",
    "    (such as ASCII or UTF-8, but let's not worry about that here...)\n",
    "* In Python, such **text files** can be manipulated very easily, by\n",
    "    reading/writing their contents to/from strings\n",
    "* Using the `open()` function one can obtain a reference to a\n",
    "    **file** object that provides methods for reading and writing (e.g.\n",
    "    `read()` and `write()`)"
   ]
  },
  {
   "cell_type": "markdown",
   "metadata": {},
   "source": [
    "## File I/O: Text Files"
   ]
  },
  {
   "cell_type": "markdown",
   "metadata": {},
   "source": [
    "### File I/O: Writing to a text file:"
   ]
  },
  {
   "cell_type": "markdown",
   "metadata": {},
   "source": [
    "Opening a text file for writing"
   ]
  },
  {
   "cell_type": "markdown",
   "metadata": {},
   "source": [
    "The python built-in function takes two inputs, filename and mode."
   ]
  },
  {
   "cell_type": "code",
   "execution_count": 39,
   "metadata": {},
   "outputs": [],
   "source": [
    "f = open('my_first_file.txt', 'w')"
   ]
  },
  {
   "cell_type": "code",
   "execution_count": 40,
   "metadata": {},
   "outputs": [
    {
     "data": {
      "text/plain": [
       "12"
      ]
     },
     "execution_count": 40,
     "metadata": {},
     "output_type": "execute_result"
    }
   ],
   "source": [
    "f.write('Hello world!')"
   ]
  },
  {
   "cell_type": "code",
   "execution_count": 41,
   "metadata": {},
   "outputs": [],
   "source": [
    "f.close()"
   ]
  },
  {
   "cell_type": "markdown",
   "metadata": {},
   "source": [
    "We can now read this file again:"
   ]
  },
  {
   "cell_type": "code",
   "execution_count": 42,
   "metadata": {},
   "outputs": [],
   "source": [
    "f = open('my_first_file.txt', 'r')"
   ]
  },
  {
   "cell_type": "code",
   "execution_count": 43,
   "metadata": {},
   "outputs": [],
   "source": [
    "line = f.readline()"
   ]
  },
  {
   "cell_type": "code",
   "execution_count": 44,
   "metadata": {},
   "outputs": [
    {
     "name": "stdout",
     "output_type": "stream",
     "text": [
      "Hello world!\n"
     ]
    }
   ],
   "source": [
    "print(line)"
   ]
  },
  {
   "cell_type": "code",
   "execution_count": 45,
   "metadata": {},
   "outputs": [],
   "source": [
    "f.close()"
   ]
  },
  {
   "cell_type": "markdown",
   "metadata": {},
   "source": [
    "Let's lets open our file in append mode to append something"
   ]
  },
  {
   "cell_type": "code",
   "execution_count": 46,
   "metadata": {},
   "outputs": [],
   "source": [
    "f = open('my_first_file.txt', 'a')\n",
    "f.write('\\nsuch a nice file that I am')\n",
    "f.close()"
   ]
  },
  {
   "cell_type": "markdown",
   "metadata": {},
   "source": [
    "Let's consider the difference between read() and readline()."
   ]
  },
  {
   "cell_type": "code",
   "execution_count": 58,
   "metadata": {},
   "outputs": [
    {
     "name": "stdout",
     "output_type": "stream",
     "text": [
      "Hello world!\n",
      "such a nice file that I am\n"
     ]
    }
   ],
   "source": [
    "f = open('my_first_file.txt','r')\n",
    "read = f.read()\n",
    "f.close()\n",
    "print(read)"
   ]
  },
  {
   "cell_type": "code",
   "execution_count": 59,
   "metadata": {},
   "outputs": [
    {
     "name": "stdout",
     "output_type": "stream",
     "text": [
      "Hello world!\n",
      "\n"
     ]
    }
   ],
   "source": [
    "f = open('my_first_file.txt','r')\n",
    "readline = f.readline()\n",
    "f.close()\n",
    "print(readline)"
   ]
  },
  {
   "cell_type": "code",
   "execution_count": 54,
   "metadata": {},
   "outputs": [
    {
     "name": "stdout",
     "output_type": "stream",
     "text": [
      "Hello world!\n",
      "\n",
      "such a nice file that I am\n"
     ]
    }
   ],
   "source": [
    "f = open('my_first_file.txt','r')\n",
    "for i in f:\n",
    "    print(i)\n",
    "f.close()"
   ]
  },
  {
   "cell_type": "markdown",
   "metadata": {},
   "source": [
    "Look, it feels an efficient way of doing things to close a file everytime after you are done with it. So we can use the **with** method. The **with** method automatically close your file after you are done"
   ]
  },
  {
   "cell_type": "code",
   "execution_count": 71,
   "metadata": {},
   "outputs": [],
   "source": [
    "with open('e_science.txt','w') as g:\n",
    "    g.write('new way of opening a file')\n",
    "    g.write('\\nsuch a nice way to open a file')"
   ]
  },
  {
   "cell_type": "markdown",
   "metadata": {},
   "source": [
    "Opening the file to read"
   ]
  },
  {
   "cell_type": "code",
   "execution_count": 72,
   "metadata": {},
   "outputs": [
    {
     "name": "stdout",
     "output_type": "stream",
     "text": [
      "new way of opening a file\n",
      "\n",
      "such a nice way to open a file\n"
     ]
    }
   ],
   "source": [
    "with open('e_science.txt','r') as g:\n",
    "    for line in g:\n",
    "        print(line)"
   ]
  },
  {
   "cell_type": "markdown",
   "metadata": {},
   "source": [
    "We didn't need to type close() at the end, wasn't that great?"
   ]
  },
  {
   "cell_type": "markdown",
   "metadata": {},
   "source": [
    "Write can be called multiple times to write more data:"
   ]
  },
  {
   "cell_type": "code",
   "execution_count": 2,
   "metadata": {},
   "outputs": [],
   "source": [
    "f = open(\"animals.txt\", \"w\")"
   ]
  },
  {
   "cell_type": "code",
   "execution_count": 3,
   "metadata": {},
   "outputs": [],
   "source": [
    "for animal in [\"Animal\\tFood\",\"Sloth\\tLeaves\", \"Chicken\\tCorn\", \"Ant_eater\\tAnts\", \"Penguin\\tFish\", \"Armadillo\\tIce_cream\\n\"]:\n",
    "    f.write(\"%s\\n\" % animal)"
   ]
  },
  {
   "cell_type": "code",
   "execution_count": 4,
   "metadata": {},
   "outputs": [],
   "source": [
    "f.close()"
   ]
  },
  {
   "cell_type": "markdown",
   "metadata": {},
   "source": [
    "## File I/O: Reading from a Text File:"
   ]
  },
  {
   "cell_type": "markdown",
   "metadata": {},
   "source": [
    "#### Reading the content of a text file using the `readlines()` function:"
   ]
  },
  {
   "cell_type": "markdown",
   "metadata": {},
   "source": [
    "The `readlines()` function reads an entire text file into a list of strings, where each list entry corresponds to a line in the file"
   ]
  },
  {
   "cell_type": "code",
   "execution_count": 6,
   "metadata": {},
   "outputs": [],
   "source": [
    "f = open(\"animals.txt\", \"r\")"
   ]
  },
  {
   "cell_type": "code",
   "execution_count": 7,
   "metadata": {},
   "outputs": [],
   "source": [
    "lines = f.readlines()"
   ]
  },
  {
   "cell_type": "code",
   "execution_count": 8,
   "metadata": {},
   "outputs": [
    {
     "name": "stdout",
     "output_type": "stream",
     "text": [
      "['Animal\\tFood\\n', 'Sloth\\tLeaves\\n', 'Chicken\\tCorn\\n', 'Ant_eater\\tAnts\\n', 'Penguin\\tFish\\n', 'Armadillo\\tIce_cream\\n', '\\n']\n"
     ]
    }
   ],
   "source": [
    "print(lines)"
   ]
  },
  {
   "cell_type": "code",
   "execution_count": 9,
   "metadata": {},
   "outputs": [
    {
     "data": {
      "text/plain": [
       "7"
      ]
     },
     "execution_count": 9,
     "metadata": {},
     "output_type": "execute_result"
    }
   ],
   "source": [
    "len(lines)"
   ]
  },
  {
   "cell_type": "markdown",
   "metadata": {},
   "source": [
    "Because the entire file is first read into memory, this can be slow or\n",
    "  unfeasible for large files"
   ]
  },
  {
   "cell_type": "markdown",
   "metadata": {},
   "source": [
    "Now print each line:"
   ]
  },
  {
   "cell_type": "code",
   "execution_count": 10,
   "metadata": {},
   "outputs": [
    {
     "name": "stdout",
     "output_type": "stream",
     "text": [
      "Animal\tFood\n",
      "\n",
      "Sloth\tLeaves\n",
      "\n",
      "Chicken\tCorn\n",
      "\n",
      "Ant_eater\tAnts\n",
      "\n",
      "Penguin\tFish\n",
      "\n",
      "Armadillo\tIce_cream\n",
      "\n",
      "\n",
      "\n"
     ]
    }
   ],
   "source": [
    "for l in lines:\n",
    "    print(l)"
   ]
  },
  {
   "cell_type": "markdown",
   "metadata": {},
   "source": [
    "The method rstrip() returns a copy of the string in which all chars have been stripped from the end of the string"
   ]
  },
  {
   "cell_type": "code",
   "execution_count": 15,
   "metadata": {},
   "outputs": [
    {
     "name": "stdout",
     "output_type": "stream",
     "text": [
      "e-sceince 20190000000\n"
     ]
    }
   ],
   "source": [
    "string = 'e-sceince 20190000000'\n",
    "print(string.rstrip())"
   ]
  },
  {
   "cell_type": "code",
   "execution_count": 17,
   "metadata": {},
   "outputs": [
    {
     "name": "stdout",
     "output_type": "stream",
     "text": [
      "4\n",
      "0\n"
     ]
    }
   ],
   "source": [
    "string0 = '    '\n",
    "print(len(string0))\n",
    "print(len(string0.strip()))"
   ]
  },
  {
   "cell_type": "code",
   "execution_count": 19,
   "metadata": {},
   "outputs": [
    {
     "name": "stdout",
     "output_type": "stream",
     "text": [
      "\n",
      "\n",
      "1\n",
      "0\n"
     ]
    }
   ],
   "source": [
    "string1 = '\\n'\n",
    "print(string1)\n",
    "print(len(string1))\n",
    "print(len(string1.strip()))"
   ]
  },
  {
   "cell_type": "code",
   "execution_count": 11,
   "metadata": {
    "scrolled": true
   },
   "outputs": [
    {
     "name": "stdout",
     "output_type": "stream",
     "text": [
      "Animal\tFood\n",
      "Sloth\tLeaves\n",
      "Chicken\tCorn\n",
      "Ant_eater\tAnts\n",
      "Penguin\tFish\n",
      "Armadillo\tIce_cream\n",
      "\n"
     ]
    }
   ],
   "source": [
    "for l in lines:\n",
    "    print(l.rstrip())"
   ]
  },
  {
   "cell_type": "markdown",
   "metadata": {},
   "source": [
    "The `print` statement inserts `\\n` after automatically, without removing the already present `\\n` characters with `rstrip()` we end up with empty lines!"
   ]
  },
  {
   "cell_type": "markdown",
   "metadata": {},
   "source": [
    "#### Reading the content of a text file line by line:"
   ]
  },
  {
   "cell_type": "markdown",
   "metadata": {},
   "source": [
    "Because processing each line in a file is such a common operation,\n",
    "  Python provides the following simple syntax"
   ]
  },
  {
   "cell_type": "code",
   "execution_count": 21,
   "metadata": {},
   "outputs": [],
   "source": [
    "f = open(\"animals.txt\", \"r\")"
   ]
  },
  {
   "cell_type": "code",
   "execution_count": 22,
   "metadata": {},
   "outputs": [
    {
     "name": "stdout",
     "output_type": "stream",
     "text": [
      "Animal\tFood\n",
      "Sloth\tLeaves\n",
      "Chicken\tCorn\n",
      "Ant_eater\tAnts\n",
      "Penguin\tFish\n",
      "Armadillo\tIce_cream\n",
      "\n"
     ]
    }
   ],
   "source": [
    "for line in f:\n",
    "    print(line.rstrip())\n"
   ]
  },
  {
   "cell_type": "code",
   "execution_count": 23,
   "metadata": {},
   "outputs": [],
   "source": [
    "f.close()"
   ]
  },
  {
   "cell_type": "markdown",
   "metadata": {},
   "source": [
    "This iterates over the file line by line instead of reading in the whole content in the beginning!"
   ]
  },
  {
   "cell_type": "markdown",
   "metadata": {},
   "source": [
    "#### And because python makes your life easy, here an even shorter version:"
   ]
  },
  {
   "cell_type": "code",
   "execution_count": 24,
   "metadata": {},
   "outputs": [
    {
     "name": "stdout",
     "output_type": "stream",
     "text": [
      "Animal\tFood\n",
      "Sloth\tLeaves\n",
      "Chicken\tCorn\n",
      "Ant_eater\tAnts\n",
      "Penguin\tFish\n",
      "Armadillo\tIce_cream\n",
      "\n"
     ]
    }
   ],
   "source": [
    "with open(\"animals.txt\", \"r\") as infile:\n",
    "    for line in infile:\n",
    "        print(line.rstrip())"
   ]
  },
  {
   "cell_type": "markdown",
   "metadata": {},
   "source": [
    "Using `with` removes the necessity to call the `close()` function on your file object!"
   ]
  },
  {
   "cell_type": "markdown",
   "metadata": {},
   "source": [
    "## File I/O: Transforming a File:"
   ]
  },
  {
   "cell_type": "markdown",
   "metadata": {},
   "source": [
    "* When working with data provided by other programs (and/or other\n",
    "    people), it is often necessary to convert data from one format to another\n"
   ]
  },
  {
   "cell_type": "markdown",
   "metadata": {},
   "source": [
    "The file that we wrote contained columns separated by tabs; what if we\n",
    "    need commas?"
   ]
  },
  {
   "cell_type": "markdown",
   "metadata": {},
   "source": [
    "The join() method provides a flexible way to concatenate string. It concatenates each element of an iterable (such as list, string and tuple) to the string and returns the concatenated string"
   ]
  },
  {
   "cell_type": "markdown",
   "metadata": {},
   "source": [
    "split() method returns a list of strings after breaking the given string by the specified separator"
   ]
  },
  {
   "cell_type": "code",
   "execution_count": 41,
   "metadata": {},
   "outputs": [
    {
     "name": "stdout",
     "output_type": "stream",
     "text": [
      "['geeks', 'for', 'geeks']\n"
     ]
    }
   ],
   "source": [
    "text = 'geeks for geeks'\n",
    "  \n",
    "# Splits at space \n",
    "print(text.split()) \n"
   ]
  },
  {
   "cell_type": "code",
   "execution_count": 42,
   "metadata": {},
   "outputs": [],
   "source": [
    "import os\n",
    "with open(\"animals.txt\", \"r\") as infile:\n",
    "    with open(\"animals.csv\", \"w\") as outfile:\n",
    "        for line in infile:\n",
    "            outfile.write(\",\".join(line.split()))\n",
    "            outfile.write('\\n')"
   ]
  },
  {
   "cell_type": "markdown",
   "metadata": {},
   "source": [
    "Lets check everything worked..."
   ]
  },
  {
   "cell_type": "code",
   "execution_count": 43,
   "metadata": {},
   "outputs": [
    {
     "name": "stdout",
     "output_type": "stream",
     "text": [
      "Animal,Food\n",
      "Sloth,Leaves\n",
      "Chicken,Corn\n",
      "Ant_eater,Ants\n",
      "Penguin,Fish\n",
      "Armadillo,Ice_cream\n",
      "\n"
     ]
    }
   ],
   "source": [
    "with open(\"animals.csv\", \"r\") as infile:\n",
    "          for line in infile:\n",
    "              print(line.rstrip())"
   ]
  },
  {
   "cell_type": "markdown",
   "metadata": {},
   "source": [
    "Looking good!"
   ]
  },
  {
   "cell_type": "markdown",
   "metadata": {},
   "source": [
    "## File I/O Pickling:"
   ]
  },
  {
   "cell_type": "markdown",
   "metadata": {},
   "source": [
    "* Text files are convenient when data needs to be exchanged with other\n",
    "    programs\n",
    "* However, getting the data in/out of text files can be tedious\n",
    "* If we know we only need the data within Python, there is a very easy\n",
    "    way to write arbitrary Python data structures to compact binary files\n",
    "* This is generally referred to as **serialization**, but in\n",
    "    Python-lingo it's called **pickling**\n",
    "* The **pickle** module and it's more efficient **cPickle**\n",
    "    version provide two functions, `dump()` and `load()`, that\n",
    "    allow writing and reading arbitrary Python objects"
   ]
  },
  {
   "cell_type": "code",
   "execution_count": 46,
   "metadata": {},
   "outputs": [],
   "source": [
    "from pickle import dump, load"
   ]
  },
  {
   "cell_type": "code",
   "execution_count": 47,
   "metadata": {},
   "outputs": [],
   "source": [
    "l = [\"a\", \"list\", \"with\", \"stuff\", [42, 23, 3.14], True]"
   ]
  },
  {
   "cell_type": "code",
   "execution_count": 48,
   "metadata": {},
   "outputs": [],
   "source": [
    "with open(\"my_list.pkl\", \"wb\") as f:\n",
    "    dump(l, f)"
   ]
  },
  {
   "cell_type": "code",
   "execution_count": 57,
   "metadata": {},
   "outputs": [
    {
     "data": {
      "text/plain": [
       "['a', 'list', 'with', 'stuff', [42, 23, 3.14], True]"
      ]
     },
     "execution_count": 57,
     "metadata": {},
     "output_type": "execute_result"
    }
   ],
   "source": [
    "with open(\"my_list.pkl\", \"rb\") as f:\n",
    "    l = load(f)\n",
    "l"
   ]
  },
  {
   "cell_type": "markdown",
   "metadata": {},
   "source": [
    "## File I/O Checking for Existence:"
   ]
  },
  {
   "cell_type": "markdown",
   "metadata": {},
   "source": [
    "* Sometimes a program needs to check whether a file exists\n",
    "* The `os.path` module provides the `exists()` function"
   ]
  },
  {
   "cell_type": "markdown",
   "metadata": {},
   "source": [
    "The OS module in Python provides a way of using operating system dependent functionality. The functions that the OS module provides allows you to interface with the underlying operating system that Python is running on – be that Windows, Mac or Linux."
   ]
  },
  {
   "cell_type": "code",
   "execution_count": 50,
   "metadata": {},
   "outputs": [],
   "source": [
    "from os.path import exists"
   ]
  },
  {
   "cell_type": "code",
   "execution_count": 51,
   "metadata": {},
   "outputs": [
    {
     "name": "stdout",
     "output_type": "stream",
     "text": [
      "No lockfile found!\n"
     ]
    }
   ],
   "source": [
    "if exists(\"lockfile\"):\n",
    "    print(\"Lockfile exists!\")\n",
    "else:\n",
    "    print(\"No lockfile found!\")"
   ]
  },
  {
   "cell_type": "markdown",
   "metadata": {},
   "source": [
    "In general, the  `os` and `os.path` modules provide functions for manipulating the file systems. Don't try to reinvent the wheel - most things exist already in the Python standard library!"
   ]
  },
  {
   "cell_type": "markdown",
   "metadata": {},
   "source": [
    "## File I/O: Reading from the Web:"
   ]
  },
  {
   "cell_type": "markdown",
   "metadata": {},
   "source": [
    "* In Python, there are several other objects that behave just like text\n",
    "    files\n",
    "* One particularly useful one provides file-like access to resources on\n",
    "    the web: the `urlopen()` method in the `urllib2` module"
   ]
  },
  {
   "cell_type": "markdown",
   "metadata": {},
   "source": [
    "**url** is the address of a resource on the Internet."
   ]
  },
  {
   "cell_type": "code",
   "execution_count": 53,
   "metadata": {},
   "outputs": [],
   "source": [
    "from urllib.request import urlopen"
   ]
  },
  {
   "cell_type": "code",
   "execution_count": 29,
   "metadata": {},
   "outputs": [],
   "source": [
    "URL = \"http://www.gutenberg.org/cache/epub/28885/pg28885.txt\""
   ]
  },
  {
   "cell_type": "code",
   "execution_count": 58,
   "metadata": {},
   "outputs": [],
   "source": [
    "if not exists(\"alice.txt\"):\n",
    "    f = urlopen(URL)\n",
    "    with open(\"alice.txt\", \"wb\") as outfile:\n",
    "        outfile.write(f.read())"
   ]
  },
  {
   "cell_type": "code",
   "execution_count": 63,
   "metadata": {
    "scrolled": true
   },
   "outputs": [
    {
     "name": "stdout",
     "output_type": "stream",
     "text": [
      "middle of one! There ought to be a book written about me, that there\n",
      "ought! And when I grow up, I'll write one--but I'm grown up now,\" she\n",
      "added in a sorrowful tone; \"at least there's no room to grow up any more\n",
      "_here_.\"\n",
      "\n",
      "\n"
     ]
    }
   ],
   "source": [
    "print(''.join(open(\"alice.txt\").readlines()[970:975]))"
   ]
  },
  {
   "cell_type": "code",
   "execution_count": 65,
   "metadata": {},
   "outputs": [
    {
     "ename": "TypeError",
     "evalue": "sequence item 0: expected str instance, bytes found",
     "output_type": "error",
     "traceback": [
      "\u001b[1;31m---------------------------------------------------------------------------\u001b[0m",
      "\u001b[1;31mTypeError\u001b[0m                                 Traceback (most recent call last)",
      "\u001b[1;32m<ipython-input-65-d40ead99bc26>\u001b[0m in \u001b[0;36m<module>\u001b[1;34m()\u001b[0m\n\u001b[0;32m      1\u001b[0m \u001b[1;32mwith\u001b[0m \u001b[0mopen\u001b[0m\u001b[1;33m(\u001b[0m\u001b[1;34m\"alice.txt\"\u001b[0m\u001b[1;33m,\u001b[0m \u001b[1;34m\"rb\"\u001b[0m\u001b[1;33m)\u001b[0m \u001b[1;32mas\u001b[0m \u001b[0minfile\u001b[0m\u001b[1;33m:\u001b[0m\u001b[1;33m\u001b[0m\u001b[0m\n\u001b[0;32m      2\u001b[0m     \u001b[0mbook\u001b[0m \u001b[1;33m=\u001b[0m \u001b[0minfile\u001b[0m\u001b[1;33m.\u001b[0m\u001b[0mreadlines\u001b[0m\u001b[1;33m(\u001b[0m\u001b[1;33m)\u001b[0m\u001b[1;33m\u001b[0m\u001b[0m\n\u001b[1;32m----> 3\u001b[1;33m     \u001b[0mprint\u001b[0m\u001b[1;33m(\u001b[0m\u001b[1;34m\"\"\u001b[0m\u001b[1;33m.\u001b[0m\u001b[0mjoin\u001b[0m\u001b[1;33m(\u001b[0m\u001b[0mbook\u001b[0m\u001b[1;33m[\u001b[0m\u001b[1;36m1000\u001b[0m\u001b[1;33m:\u001b[0m\u001b[1;36m1005\u001b[0m\u001b[1;33m]\u001b[0m\u001b[1;33m)\u001b[0m\u001b[1;33m)\u001b[0m\u001b[1;33m\u001b[0m\u001b[0m\n\u001b[0m",
      "\u001b[1;31mTypeError\u001b[0m: sequence item 0: expected str instance, bytes found"
     ]
    }
   ],
   "source": [
    "with open(\"alice.txt\", \"rb\") as infile:\n",
    "    book = infile.readlines()\n",
    "    print(\"\".join(book[1000:1005]))"
   ]
  },
  {
   "cell_type": "markdown",
   "metadata": {},
   "source": [
    "A **TypeError** will be raised if there are any non-string values in iterable, including bytes objects"
   ]
  },
  {
   "cell_type": "markdown",
   "metadata": {},
   "source": [
    "## File I/O Multiple Files:"
   ]
  },
  {
   "cell_type": "markdown",
   "metadata": {},
   "source": [
    "The `glob` module provides an easy way to find all files with certain names (e.g. all files with names that end in `.txt`)"
   ]
  },
  {
   "cell_type": "code",
   "execution_count": 66,
   "metadata": {},
   "outputs": [],
   "source": [
    "import glob"
   ]
  },
  {
   "cell_type": "code",
   "execution_count": 67,
   "metadata": {},
   "outputs": [],
   "source": [
    "text_files = glob.glob(\"*.txt\")"
   ]
  },
  {
   "cell_type": "code",
   "execution_count": 68,
   "metadata": {},
   "outputs": [
    {
     "name": "stdout",
     "output_type": "stream",
     "text": [
      "alice.txt\n",
      "animals.txt\n",
      "e_science.txt\n",
      "library_data.txt\n",
      "my_first_file.txt\n",
      "response_time.txt\n"
     ]
    }
   ],
   "source": [
    "for t in text_files:\n",
    "    print(t)"
   ]
  },
  {
   "cell_type": "markdown",
   "metadata": {},
   "source": [
    "## File I/O Terminal streams:"
   ]
  },
  {
   "cell_type": "markdown",
   "metadata": {},
   "source": [
    "* The terminal input/output streams can also be accessed like filesusing the `stdin` and `stdout` objects from the `sys` module"
   ]
  },
  {
   "cell_type": "code",
   "execution_count": 69,
   "metadata": {},
   "outputs": [],
   "source": [
    "import sys"
   ]
  },
  {
   "cell_type": "code",
   "execution_count": 70,
   "metadata": {},
   "outputs": [
    {
     "name": "stdout",
     "output_type": "stream",
     "text": [
      "Another way to print!\n"
     ]
    }
   ],
   "source": [
    "sys.stdout.write(\"Another way to print!\\n\")"
   ]
  },
  {
   "cell_type": "markdown",
   "metadata": {},
   "source": [
    "So, what is the difference between sys.stdout.write and print? "
   ]
  },
  {
   "cell_type": "markdown",
   "metadata": {},
   "source": [
    "**\"print\"** first converts the object to a string (if it is not already a string). It will also put a space before the object if it is not the start of a line and a newline character at the end."
   ]
  },
  {
   "cell_type": "markdown",
   "metadata": {},
   "source": [
    "When using stdout, you need to convert the object to a string yourself (by calling \"str\", for example) and there is no newline character."
   ]
  },
  {
   "cell_type": "code",
   "execution_count": 71,
   "metadata": {},
   "outputs": [
    {
     "name": "stdout",
     "output_type": "stream",
     "text": [
      "23\n"
     ]
    }
   ],
   "source": [
    "print(23)"
   ]
  },
  {
   "cell_type": "code",
   "execution_count": 75,
   "metadata": {},
   "outputs": [
    {
     "name": "stdout",
     "output_type": "stream",
     "text": [
      "23\n"
     ]
    }
   ],
   "source": [
    "sys.stdout.write(str(23) + '\\n')"
   ]
  },
  {
   "cell_type": "code",
   "execution_count": null,
   "metadata": {},
   "outputs": [],
   "source": []
  }
 ],
 "metadata": {
  "kernelspec": {
   "display_name": "Python 3",
   "language": "python",
   "name": "python3"
  },
  "language_info": {
   "codemirror_mode": {
    "name": "ipython",
    "version": 3
   },
   "file_extension": ".py",
   "mimetype": "text/x-python",
   "name": "python",
   "nbconvert_exporter": "python",
   "pygments_lexer": "ipython3",
   "version": "3.7.1"
  }
 },
 "nbformat": 4,
 "nbformat_minor": 1
}
