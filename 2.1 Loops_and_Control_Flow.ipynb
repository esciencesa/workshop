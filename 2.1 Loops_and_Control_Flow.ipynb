{
 "cells": [
  {
   "cell_type": "markdown",
   "metadata": {},
   "source": [
    "# `For` Loops"
   ]
  },
  {
   "cell_type": "markdown",
   "metadata": {},
   "source": [
    "When programming, you often want to do the same task for each point in a data set. Some examples:\n",
    "+ You have the attendance list of the Python course and for each participant, you want to print their department\n",
    "+ You have two lists, for each item in list A check whether it is also in list B\n",
    "+ You want to call a function for each element of an array\n",
    "\n",
    "Notice how the structure of the programming command follows a natural logic: **FOR** each item**:** **DO** some action"
   ]
  },
  {
   "cell_type": "code",
   "execution_count": 2,
   "metadata": {},
   "outputs": [
    {
     "name": "stdout",
     "output_type": "stream",
     "text": [
      "0\n",
      "Fabian\n",
      "1\n",
      "Lea\n",
      "2\n",
      "Dimitris\n",
      "3\n",
      "Joe\n",
      "4\n",
      "Ingolf\n"
     ]
    }
   ],
   "source": [
    "tutors = ['Fabian', 'Lea', 'Dimitris', 'Joe', 'Ingolf']\n",
    "for index, name in enumerate(tutors):\n",
    "    print (index)\n",
    "    print (name)\n",
    "  "
   ]
  },
  {
   "cell_type": "code",
   "execution_count": 3,
   "metadata": {},
   "outputs": [
    {
     "name": "stdout",
     "output_type": "stream",
     "text": [
      "6\n",
      "3\n",
      "8\n",
      "3\n",
      "6\n"
     ]
    }
   ],
   "source": [
    "for name in tutors:\n",
    "    print(len(name))"
   ]
  },
  {
   "cell_type": "markdown",
   "metadata": {},
   "source": [
    "## Different ways of iterating"
   ]
  },
  {
   "cell_type": "markdown",
   "metadata": {},
   "source": [
    "### 1. `range()`\n",
    "`range()` returns a list of plain integers. \n",
    "Thus, one way to loop over a sequence is to use `range()` on the length of a sequence -> the returned list are the **indexes** of the sequence. You can then **access each element by index**:"
   ]
  },
  {
   "cell_type": "code",
   "execution_count": 4,
   "metadata": {},
   "outputs": [
    {
     "data": {
      "text/plain": [
       "range(0, 5)"
      ]
     },
     "execution_count": 4,
     "metadata": {},
     "output_type": "execute_result"
    }
   ],
   "source": [
    "range(5)"
   ]
  },
  {
   "cell_type": "code",
   "execution_count": 5,
   "metadata": {},
   "outputs": [
    {
     "name": "stdout",
     "output_type": "stream",
     "text": [
      "Fabian\n",
      "Lea\n",
      "Dimitris\n",
      "Joe\n",
      "Ingolf\n"
     ]
    }
   ],
   "source": [
    "for i in range(len(tutors)):\n",
    "    print(tutors[i])"
   ]
  },
  {
   "cell_type": "markdown",
   "metadata": {},
   "source": [
    "### 2. `enumerate()`\n",
    "`enumerate()` returns a tuple containing a count and the values obtained from iterating over sequence. This is handy if you need both the item a sequence and its index."
   ]
  },
  {
   "cell_type": "code",
   "execution_count": 6,
   "metadata": {},
   "outputs": [
    {
     "name": "stdout",
     "output_type": "stream",
     "text": [
      "0 Fabian\n",
      "1 Lea\n",
      "2 Dimitris\n",
      "3 Joe\n",
      "4 Ingolf\n"
     ]
    }
   ],
   "source": [
    "for index,name in enumerate(tutors):\n",
    "    print(index, name)"
   ]
  },
  {
   "cell_type": "code",
   "execution_count": 7,
   "metadata": {},
   "outputs": [
    {
     "name": "stdout",
     "output_type": "stream",
     "text": [
      "[[1, 2, 3, 4], ['f'], ['one'], [0, 1, 2]]\n"
     ]
    }
   ],
   "source": [
    "f =[[1,2,3,4],['f'],['one'],list(range(3))]\n",
    "\n",
    "print(f)\n",
    "\n"
   ]
  },
  {
   "cell_type": "code",
   "execution_count": 10,
   "metadata": {},
   "outputs": [
    {
     "name": "stdout",
     "output_type": "stream",
     "text": [
      "0 1\n",
      "1 f\n",
      "2 one\n",
      "3 0\n"
     ]
    }
   ],
   "source": [
    "for index, element in enumerate(f):\n",
    "    print(index,element[0])"
   ]
  },
  {
   "cell_type": "markdown",
   "metadata": {},
   "source": [
    "We have seen how `for` loops allow us to easily execute the same statement for each item in a list. But what if we want to **apply different statements, depending on the item?**\n",
    "In our earlier example, say you want to print the name, but only if it contains the letter i. So now when you initialize the iterator, there are actually 2 different options and we need to check which one is the case:\n",
    "\n",
    "**if** the name contains the letter i -> **print** the name *--> whiteboard*\n",
    "\n",
    "These check-points are called **conditionals**; you check whether a condition is met. And the whole concept is referred to as **flow control**, because at these check points, you control \"in which direction the programme is going to flow\"."
   ]
  },
  {
   "cell_type": "markdown",
   "metadata": {},
   "source": [
    "# Flow control"
   ]
  },
  {
   "cell_type": "markdown",
   "metadata": {},
   "source": [
    "### 1. conditionals - keywords "
   ]
  },
  {
   "cell_type": "markdown",
   "metadata": {},
   "source": [
    "## `if`"
   ]
  },
  {
   "cell_type": "markdown",
   "metadata": {},
   "source": [
    "use the `if` keyword to check whether a condition is met:"
   ]
  },
  {
   "cell_type": "code",
   "execution_count": 43,
   "metadata": {},
   "outputs": [
    {
     "name": "stdout",
     "output_type": "stream",
     "text": [
      "0  is even\n",
      "2  is even\n",
      "4  is even\n",
      "6  is even\n"
     ]
    }
   ],
   "source": [
    "for number in range(8):\n",
    "    if number % 2 == 0:\n",
    "        print(number, ' is even')\n",
    "        "
   ]
  },
  {
   "cell_type": "markdown",
   "metadata": {},
   "source": [
    "use the `else` keyword to specify a statement that is executed when the condition is not true:"
   ]
  },
  {
   "cell_type": "markdown",
   "metadata": {},
   "source": [
    "## `else`"
   ]
  },
  {
   "cell_type": "code",
   "execution_count": 26,
   "metadata": {},
   "outputs": [
    {
     "name": "stdout",
     "output_type": "stream",
     "text": [
      "0 is even\n",
      "1 is odd\n",
      "2 is even\n",
      "3 is odd\n",
      "4 is even\n",
      "5 is odd\n",
      "6 is even\n",
      "7 is odd\n"
     ]
    }
   ],
   "source": [
    "for number in range(8):\n",
    "    if number % 2 == 0:\n",
    "        print(number, 'is even')\n",
    "\n",
    "    else:\n",
    "        print(number, 'is odd')"
   ]
  },
  {
   "cell_type": "markdown",
   "metadata": {},
   "source": [
    "use the `elif` keyword to **check for several conditions**:"
   ]
  },
  {
   "cell_type": "markdown",
   "metadata": {},
   "source": [
    "## `elif`"
   ]
  },
  {
   "cell_type": "code",
   "execution_count": 29,
   "metadata": {},
   "outputs": [
    {
     "name": "stdout",
     "output_type": "stream",
     "text": [
      "0 is even\n",
      "1 is odd\n",
      "2 is even\n",
      "3 is odd\n",
      "4 is even\n",
      "5 is my favourite number!\n",
      "6 is even\n",
      "7 is odd\n"
     ]
    }
   ],
   "source": [
    "for number in range(8):\n",
    "    if number % 2 ==0:\n",
    "        print(number, 'is even')\n",
    "    elif number == 5:\n",
    "        print(number, 'is my favourite number!')\n",
    "    else:\n",
    "        print(number, 'is odd')"
   ]
  },
  {
   "cell_type": "markdown",
   "metadata": {},
   "source": [
    "### 2. conditionals - expressions"
   ]
  },
  {
   "cell_type": "markdown",
   "metadata": {},
   "source": [
    "question: which expressions can you use as condition for an if statement?\n",
    "+ anything that evaluates to a **boolean value**\n",
    "+ Boolean values are `True` and `False`"
   ]
  },
  {
   "cell_type": "markdown",
   "metadata": {},
   "source": [
    "#### e.g. comparison of numeric types"
   ]
  },
  {
   "cell_type": "markdown",
   "metadata": {},
   "source": [
    "Numeric types can be compared using the comparison operators, which yield True or False The operators are:\n",
    "    \n",
    "a < b | a less than b\n",
    "\n",
    "a > b | a greater than b\n",
    "\n",
    "a == b | a equal to b\n",
    "\n",
    "a <= b | a less than or equal to b\n",
    "\n",
    "a >= b | a greater than or equal to b"
   ]
  },
  {
   "cell_type": "markdown",
   "metadata": {},
   "source": [
    "The boolean values `True` and `False` can be combined using the boolean operators **`and`, `or`,** and **`not`**\n"
   ]
  },
  {
   "cell_type": "code",
   "execution_count": 31,
   "metadata": {},
   "outputs": [],
   "source": [
    "a = True\n",
    "b = False"
   ]
  },
  {
   "cell_type": "code",
   "execution_count": 34,
   "metadata": {},
   "outputs": [
    {
     "data": {
      "text/plain": [
       "1"
      ]
     },
     "execution_count": 34,
     "metadata": {},
     "output_type": "execute_result"
    }
   ],
   "source": [
    "a and b"
   ]
  },
  {
   "cell_type": "code",
   "execution_count": 35,
   "metadata": {},
   "outputs": [
    {
     "data": {
      "text/plain": [
       "True"
      ]
     },
     "execution_count": 35,
     "metadata": {},
     "output_type": "execute_result"
    }
   ],
   "source": [
    "a and 3 <= 4"
   ]
  },
  {
   "cell_type": "markdown",
   "metadata": {},
   "source": [
    "#### e.g. testing for membership\n",
    "\n",
    "here the keyword is **`in`**"
   ]
  },
  {
   "cell_type": "code",
   "execution_count": 36,
   "metadata": {},
   "outputs": [],
   "source": [
    "mondaytutors = [\"Fabian\", \"Lea\", \"Dimitris\", \"Ingolf\"]\n",
    "alltutors = [\"Fabian\", \"Joe\", \"Ingolf\", \"Lea\", \"Alison\", \"Matthias\", \"Michael\", \"Thanapong\", \"Peter\", \n",
    "             \"Dimitris\", \"Sheen\", \"Chris\", \"Auro\", \"Gaurav\", \"Ope\"]"
   ]
  },
  {
   "cell_type": "code",
   "execution_count": 41,
   "metadata": {},
   "outputs": [
    {
     "name": "stdout",
     "output_type": "stream",
     "text": [
      "Fabian\n",
      "Ingolf\n",
      "Lea\n",
      "Dimitris\n"
     ]
    }
   ],
   "source": [
    "for tutor in alltutors:\n",
    "    if tutor in mondaytutors:\n",
    "        print(tutor)"
   ]
  },
  {
   "cell_type": "markdown",
   "metadata": {},
   "source": [
    "### Using `for` loops on lists and list comprehensions"
   ]
  },
  {
   "cell_type": "markdown",
   "metadata": {},
   "source": [
    "You commonly want to create a new list by transforming and filtering an old list:\n"
   ]
  },
  {
   "cell_type": "code",
   "execution_count": 45,
   "metadata": {},
   "outputs": [
    {
     "data": {
      "text/plain": [
       "[0, 2, 4, 6, 8]"
      ]
     },
     "execution_count": 45,
     "metadata": {},
     "output_type": "execute_result"
    }
   ],
   "source": [
    "even_numbers = []\n",
    "for x in range(10):\n",
    "     if x % 2 == 0:\n",
    "        even_numbers.append(x)\n",
    "even_numbers"
   ]
  },
  {
   "cell_type": "markdown",
   "metadata": {},
   "source": [
    "Because this is such a common operation Python also provides a shortcut in form of list comprehensions (they are truely great!)\n"
   ]
  },
  {
   "cell_type": "code",
   "execution_count": 52,
   "metadata": {},
   "outputs": [
    {
     "data": {
      "text/plain": [
       "[0, 2, 4, 6, 8]"
      ]
     },
     "execution_count": 52,
     "metadata": {},
     "output_type": "execute_result"
    }
   ],
   "source": [
    "even_numbers = [x for x in range(10) if x % 2 == 0]\n",
    "even_numbers"
   ]
  },
  {
   "cell_type": "markdown",
   "metadata": {},
   "source": [
    "# References and further reading"
   ]
  },
  {
   "cell_type": "markdown",
   "metadata": {},
   "source": [
    "http://pwsztar.edu.pl/wp-content/uploads/2013/06/Beginning-Python-From-Novice-to-Professional-Second-Edition.pdf\n",
    "\n",
    "http://www.greenteapress.com/thinkpython/thinkpython.pdf\n",
    "\n",
    "https://drive.google.com/file/d/0B2Y-n6IlHYliSXZxMk0xT0NSY1E/preview"
   ]
  }
 ],
 "metadata": {
  "kernelspec": {
   "display_name": "Python 3",
   "language": "python",
   "name": "python3"
  },
  "language_info": {
   "codemirror_mode": {
    "name": "ipython",
    "version": 3
   },
   "file_extension": ".py",
   "mimetype": "text/x-python",
   "name": "python",
   "nbconvert_exporter": "python",
   "pygments_lexer": "ipython3",
   "version": "3.7.1"
  }
 },
 "nbformat": 4,
 "nbformat_minor": 2
}
